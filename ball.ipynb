{
 "cells": [
  {
   "cell_type": "markdown",
   "id": "854d5dd3-9528-43d8-b111-1251f8b5fe20",
   "metadata": {},
   "source": [
    "# Bouncing ball"
   ]
  },
  {
   "cell_type": "markdown",
   "id": "7f5e307f-0c4d-45c0-8168-9d50ed35fea1",
   "metadata": {},
   "source": [
    "## Basic (C style) implementation"
   ]
  },
  {
   "cell_type": "code",
   "execution_count": 1,
   "id": "f9a66249-415d-4d8c-bf3c-a7aae6604cf2",
   "metadata": {},
   "outputs": [
    {
     "data": {
      "application/vnd.jupyter.widget-view+json": {
       "model_id": "9b63e95916864add9ce0498033a8922a",
       "version_major": 2,
       "version_minor": 0
      },
      "text/plain": [
       "VBox(children=(HBox(children=(Button(icon='play', style=ButtonStyle(), tooltip='start'), Button(disabled=True,…"
      ]
     },
     "metadata": {},
     "output_type": "display_data"
    }
   ],
   "source": [
    "from ball_screen.ipywidgets import display_ball_animation\n",
    "from ball_screen.protocols import BallScreen\n",
    "\n",
    "from time import sleep\n",
    "\n",
    "BALL_SIZE = 10\n",
    "BALL_SPEED = 2\n",
    "SCREEN_WIDTH = 400\n",
    "SCREEN_HEIGHT = 200\n",
    "\n",
    "\n",
    "def animation_func(screen: BallScreen) -> None:\n",
    "    ball_x, ball_y = 50, 50\n",
    "    x_speed, y_speed = BALL_SPEED, BALL_SPEED\n",
    "    while not screen.should_stop:\n",
    "        ball_x += x_speed\n",
    "        ball_y += y_speed\n",
    "        if ball_x >= screen.screen_width - BALL_SIZE or ball_x <= BALL_SIZE:\n",
    "            x_speed = -x_speed\n",
    "        if ball_y >= screen.screen_height - BALL_SIZE or ball_y <= BALL_SIZE:\n",
    "            y_speed = -y_speed\n",
    "        screen.clear()\n",
    "        screen.draw_ball(ball_x, ball_y, BALL_SIZE)\n",
    "        sleep(0.01)\n",
    "\n",
    "\n",
    "display_ball_animation(SCREEN_WIDTH, SCREEN_HEIGHT, animation_func)"
   ]
  },
  {
   "cell_type": "code",
   "execution_count": null,
   "id": "8cda0cd2-52e5-4206-a85e-4d7311baeaf7",
   "metadata": {},
   "outputs": [],
   "source": []
  }
 ],
 "metadata": {
  "kernelspec": {
   "display_name": "Python 3 (ipykernel)",
   "language": "python",
   "name": "python3"
  },
  "language_info": {
   "codemirror_mode": {
    "name": "ipython",
    "version": 3
   },
   "file_extension": ".py",
   "mimetype": "text/x-python",
   "name": "python",
   "nbconvert_exporter": "python",
   "pygments_lexer": "ipython3",
   "version": "3.10.5"
  }
 },
 "nbformat": 4,
 "nbformat_minor": 5
}
