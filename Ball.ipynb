{
 "cells": [
  {
   "cell_type": "markdown",
   "id": "854d5dd3-9528-43d8-b111-1251f8b5fe20",
   "metadata": {},
   "source": [
    "# Bouncing ball"
   ]
  },
  {
   "cell_type": "markdown",
   "id": "7f5e307f-0c4d-45c0-8168-9d50ed35fea1",
   "metadata": {},
   "source": [
    "## Basic (C style) implementation"
   ]
  },
  {
   "cell_type": "code",
   "execution_count": 1,
   "id": "61254937-e673-4997-89c4-9f78fda936a5",
   "metadata": {
    "tags": []
   },
   "outputs": [
    {
     "data": {
      "application/vnd.jupyter.widget-view+json": {
       "model_id": "e5498ed6fe704e8fa48da338fdc7b404",
       "version_major": 2,
       "version_minor": 0
      },
      "text/plain": [
       "VBox(children=(HBox(children=(Button(icon='play', style=ButtonStyle(), tooltip='start'), Button(disabled=True,…"
      ]
     },
     "metadata": {},
     "output_type": "display_data"
    }
   ],
   "source": [
    "import ipywidgets as widgets\n",
    "from ipycanvas import RoughCanvas, hold_canvas\n",
    "from threading import Thread, Event\n",
    "from time import sleep\n",
    "\n",
    "BALL_SIZE=10\n",
    "BALL_SPEED=2\n",
    "SCREEN_WIDTH=400\n",
    "SCREEN_HEIGHT=200\n",
    "\n",
    "canvas = RoughCanvas(width=SCREEN_WIDTH, height=SCREEN_HEIGHT)\n",
    "\n",
    "\n",
    "def draw_ball(x, y, size):\n",
    "    with hold_canvas():\n",
    "        canvas.clear()\n",
    "        canvas.stroke_circle(x, y, size)\n",
    "        canvas.fill_circle(x, y, size)\n",
    "\n",
    "\n",
    "draw_ball(50, 50, BALL_SIZE)\n",
    "\n",
    "\n",
    "def thread_controller(thread_func):\n",
    "    thread = None\n",
    "    stop_event = Event()\n",
    "    start_btn = widgets.Button(icon=\"play\", tooltip=\"start\")\n",
    "    stop_btn = widgets.Button(icon=\"stop\", tooltip=\"stop\")\n",
    "\n",
    "    def start_thread(*args):\n",
    "        global thread\n",
    "        print(\"Starting thread\")\n",
    "        thread = Thread(target=thread_func, kwargs={\"should_stop\": stop_event.is_set})\n",
    "        thread.start()\n",
    "        start_btn.disabled = True\n",
    "        stop_btn.disabled = False\n",
    "\n",
    "    def stop_thread(*args):\n",
    "        global thread\n",
    "        stop_event.set()\n",
    "        thread.join()\n",
    "        print(\"Thread stopped\")\n",
    "        thread = None\n",
    "        stop_event.clear()\n",
    "        start_btn.disabled = False\n",
    "        stop_btn.disabled = True\n",
    "\n",
    "    start_btn.on_click(start_thread)\n",
    "    stop_btn.on_click(stop_thread)\n",
    "    stop_btn.disabled = True\n",
    "\n",
    "    return widgets.HBox([start_btn, stop_btn])\n",
    "\n",
    "\n",
    "def game_func(should_stop):\n",
    "    x, y = 50, 50\n",
    "    x_speed, y_speed = BALL_SPEED, BALL_SPEED\n",
    "    print(\"game starting\")\n",
    "    while not should_stop():\n",
    "        x += x_speed\n",
    "        y += y_speed\n",
    "        if x >= SCREEN_WIDTH - BALL_SIZE or x <= BALL_SIZE:\n",
    "            x_speed = -x_speed\n",
    "        if y >= SCREEN_HEIGHT - BALL_SIZE or y <= BALL_SIZE:\n",
    "            y_speed = -y_speed\n",
    "        draw_ball(x, y, BALL_SIZE)\n",
    "        sleep(0.01)\n",
    "    print(\"game stopped\")\n",
    "\n",
    "\n",
    "widgets.VBox([thread_controller(game_func), canvas])\n"
   ]
  },
  {
   "cell_type": "code",
   "execution_count": null,
   "id": "f9a66249-415d-4d8c-bf3c-a7aae6604cf2",
   "metadata": {},
   "outputs": [],
   "source": []
  }
 ],
 "metadata": {
  "kernelspec": {
   "display_name": "Python 3 (ipykernel)",
   "language": "python",
   "name": "python3"
  },
  "language_info": {
   "codemirror_mode": {
    "name": "ipython",
    "version": 3
   },
   "file_extension": ".py",
   "mimetype": "text/x-python",
   "name": "python",
   "nbconvert_exporter": "python",
   "pygments_lexer": "ipython3",
   "version": "3.10.4"
  }
 },
 "nbformat": 4,
 "nbformat_minor": 5
}
